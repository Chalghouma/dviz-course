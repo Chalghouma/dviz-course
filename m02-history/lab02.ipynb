{
  "cells": [
    {
      "cell_type": "markdown",
      "source": [
        "# W2 Lab: Data processing basics and John Snow's map\n",
        "\n",
        "Follow the contents of this notebook and answer all questions (e.g. **Q1: ...**)"
      ],
      "metadata": {}
    },
    {
      "cell_type": "markdown",
      "source": [
        "## If you are not familiar with Python yet... \n",
        "\n",
        "Maybe you can quickly review these basics first.\n",
        "\n",
        "* [numbers](https://docs.python.org/3.6/tutorial/introduction.html#numbersnumbers) and [strings](https://docs.python.org/3.6/tutorial/introduction.html#strings);\n",
        "* [if](https://docs.python.org/3.6/tutorial/controlflow.html#if-statements) and [for](https://docs.python.org/3.6/tutorial/controlflow.html#for-statements) statement\n",
        "* data structure ([lists](https://docs.python.org/3.6/tutorial/introduction.html#lists), [sets](https://docs.python.org/3.6/tutorial/datastructures.html#sets), [dictionaries](https://docs.python.org/3.6/tutorial/datastructures.html#dictionaries))\n",
        "* [functions](https://docs.python.org/3.6/tutorial/controlflow.html#defining-functions) and [modules](https://docs.python.org/3.6/tutorial/modules.html)\n",
        "\n",
        "[Google's Python Class](https://developers.google.com/edu/python/?hl=en) is also a nice resource."
      ],
      "metadata": {}
    },
    {
      "cell_type": "markdown",
      "source": [
        "## Jupyter + Pandas = Awesomeness"
      ],
      "metadata": {}
    },
    {
      "cell_type": "markdown",
      "source": [
        "[Jupyter notebook (lab)](http://jupyter.org) (and [IPython](https://ipython.org)) and [Pandas](http://pandas.pydata.org) may be two most important libraries responsible for the `Python`'s rise in data science. `Jupyter` lets you interactively explore datasets and code; `Pandas` lets you handle tabular datasets with superb speed and convenience. And they work so well together! In many cases, `Jupyter` and `Pandas` are all you need to load, clean, transform, visualize, and understand a dataset.\n",
        "\n",
        "If you are not familiar with `Pandas`, you may want to follow their official tutorial called [10 Minutes to pandas](http://pandas.pydata.org/pandas-docs/stable/10min.html) now or in the near future. "
      ],
      "metadata": {}
    },
    {
      "cell_type": "markdown",
      "source": [
        "## Importing pandas\n",
        "\n",
        "The convention for importing `pandas` is the following"
      ],
      "metadata": {}
    },
    {
      "cell_type": "code",
      "source": [
        "import pandas as pd"
      ],
      "outputs": [],
      "execution_count": 1,
      "metadata": {
        "execution": {
          "iopub.status.busy": "2020-05-17T21:06:39.054Z",
          "iopub.execute_input": "2020-05-17T21:06:39.071Z",
          "iopub.status.idle": "2020-05-17T21:06:39.826Z",
          "shell.execute_reply": "2020-05-17T21:06:39.848Z"
        }
      }
    },
    {
      "cell_type": "markdown",
      "source": [
        "You can check the version of the library. Because pandas is fast-evolving library, you want to make sure that you have the up-to-date version of the library. "
      ],
      "metadata": {}
    },
    {
      "cell_type": "code",
      "source": [
        "pd.__version__"
      ],
      "outputs": [
        {
          "output_type": "execute_result",
          "execution_count": 2,
          "data": {
            "text/plain": [
              "'1.0.3'"
            ]
          },
          "metadata": {}
        }
      ],
      "execution_count": 2,
      "metadata": {
        "execution": {
          "iopub.status.busy": "2020-05-17T21:06:41.867Z",
          "iopub.execute_input": "2020-05-17T21:06:41.885Z",
          "iopub.status.idle": "2020-05-17T21:06:41.919Z",
          "shell.execute_reply": "2020-05-17T21:06:41.935Z"
        }
      }
    },
    {
      "cell_type": "markdown",
      "source": [
        "You also need `matplotlib`, which is used by `pandas` to plot figures. The following is the most common convention to import `matplotlib` library. "
      ],
      "metadata": {}
    },
    {
      "cell_type": "code",
      "source": [
        "import matplotlib.pyplot as plt"
      ],
      "outputs": [],
      "execution_count": 3,
      "metadata": {
        "execution": {
          "iopub.status.busy": "2020-05-17T21:06:43.613Z",
          "iopub.execute_input": "2020-05-17T21:06:43.626Z",
          "iopub.status.idle": "2020-05-17T21:06:43.889Z",
          "shell.execute_reply": "2020-05-17T21:06:43.910Z"
        }
      }
    },
    {
      "cell_type": "markdown",
      "source": [
        "Let's check its version too. "
      ],
      "metadata": {}
    },
    {
      "cell_type": "code",
      "source": [
        "import matplotlib\n",
        "matplotlib.__version__"
      ],
      "outputs": [
        {
          "output_type": "execute_result",
          "execution_count": 4,
          "data": {
            "text/plain": [
              "'3.1.3'"
            ]
          },
          "metadata": {}
        }
      ],
      "execution_count": 4,
      "metadata": {
        "execution": {
          "iopub.status.busy": "2020-05-17T21:06:45.146Z",
          "iopub.execute_input": "2020-05-17T21:06:45.160Z",
          "iopub.status.idle": "2020-05-17T21:06:45.187Z",
          "shell.execute_reply": "2020-05-17T21:06:45.201Z"
        }
      }
    },
    {
      "cell_type": "markdown",
      "source": [
        "## Loading a CSV data file\n",
        "\n",
        "Using pandas, you can read tabular data files in [many formats and through many protocols](https://pandas.pydata.org/pandas-docs/stable/io.html). Pandas supports not only flat files such as `.csv`, but also various other formats including clipboard, Excel, JSON, HTML, Feather, Parquet, SQL, Google BigQuery, and so on. Moreover, you can pass a local file path or a URL. If it's on Amazon S3, just pass a url like `s3://path/to/file.csv`. If it's on a webpage, then just use `https://some/url.csv`. \n",
        "\n",
        "Let's load a dataset about the location of pumps in the John Snow's map. You can download the file to your computer and try to load it using the local path too. "
      ],
      "metadata": {}
    },
    {
      "cell_type": "code",
      "source": [
        "pump_df = pd.read_csv('https://raw.githubusercontent.com/yy/dviz-course/master/data/pumps.csv')"
      ],
      "outputs": [],
      "execution_count": 5,
      "metadata": {
        "execution": {
          "iopub.status.busy": "2020-05-17T21:06:46.167Z",
          "iopub.execute_input": "2020-05-17T21:06:46.182Z",
          "iopub.status.idle": "2020-05-17T21:06:46.474Z",
          "shell.execute_reply": "2020-05-17T21:06:46.486Z"
        }
      }
    },
    {
      "cell_type": "markdown",
      "source": [
        "`df` stands for \"[Data Frame](https://pandas.pydata.org/pandas-docs/stable/dsintro.html#dataframe)\", which is a fundamental data object in Pandas. You can take a look at the dataset by looking at the first few lines."
      ],
      "metadata": {}
    },
    {
      "cell_type": "code",
      "source": [
        "pump_df.head() "
      ],
      "outputs": [
        {
          "output_type": "execute_result",
          "execution_count": 6,
          "data": {
            "text/plain": [
              "           X          Y\n",
              "0   8.651201  17.891600\n",
              "1  10.984780  18.517851\n",
              "2  13.378190  17.394541\n",
              "3  14.879830  17.809919\n",
              "4   8.694768  14.905470"
            ],
            "text/html": [
              "<div>\n",
              "<style scoped>\n",
              "    .dataframe tbody tr th:only-of-type {\n",
              "        vertical-align: middle;\n",
              "    }\n",
              "\n",
              "    .dataframe tbody tr th {\n",
              "        vertical-align: top;\n",
              "    }\n",
              "\n",
              "    .dataframe thead th {\n",
              "        text-align: right;\n",
              "    }\n",
              "</style>\n",
              "<table border=\"1\" class=\"dataframe\">\n",
              "  <thead>\n",
              "    <tr style=\"text-align: right;\">\n",
              "      <th></th>\n",
              "      <th>X</th>\n",
              "      <th>Y</th>\n",
              "    </tr>\n",
              "  </thead>\n",
              "  <tbody>\n",
              "    <tr>\n",
              "      <th>0</th>\n",
              "      <td>8.651201</td>\n",
              "      <td>17.891600</td>\n",
              "    </tr>\n",
              "    <tr>\n",
              "      <th>1</th>\n",
              "      <td>10.984780</td>\n",
              "      <td>18.517851</td>\n",
              "    </tr>\n",
              "    <tr>\n",
              "      <th>2</th>\n",
              "      <td>13.378190</td>\n",
              "      <td>17.394541</td>\n",
              "    </tr>\n",
              "    <tr>\n",
              "      <th>3</th>\n",
              "      <td>14.879830</td>\n",
              "      <td>17.809919</td>\n",
              "    </tr>\n",
              "    <tr>\n",
              "      <th>4</th>\n",
              "      <td>8.694768</td>\n",
              "      <td>14.905470</td>\n",
              "    </tr>\n",
              "  </tbody>\n",
              "</table>\n",
              "</div>"
            ]
          },
          "metadata": {}
        }
      ],
      "execution_count": 6,
      "metadata": {
        "execution": {
          "iopub.status.busy": "2020-05-17T21:06:47.618Z",
          "iopub.execute_input": "2020-05-17T21:06:47.628Z",
          "iopub.status.idle": "2020-05-17T21:06:47.654Z",
          "shell.execute_reply": "2020-05-17T21:06:47.667Z"
        }
      }
    },
    {
      "cell_type": "markdown",
      "source": [
        "**Q1: can you print only the first three lines?** Refer: http://pandas.pydata.org/pandas-docs/stable/index.html"
      ],
      "metadata": {}
    },
    {
      "cell_type": "code",
      "source": [
        "# TODO: write your code here\n"
      ],
      "outputs": [
        {
          "output_type": "execute_result",
          "execution_count": 7,
          "data": {
            "text/plain": [
              "           X          Y\n",
              "0   8.651201  17.891600\n",
              "1  10.984780  18.517851\n",
              "2  13.378190  17.394541"
            ],
            "text/html": [
              "<div>\n",
              "<style scoped>\n",
              "    .dataframe tbody tr th:only-of-type {\n",
              "        vertical-align: middle;\n",
              "    }\n",
              "\n",
              "    .dataframe tbody tr th {\n",
              "        vertical-align: top;\n",
              "    }\n",
              "\n",
              "    .dataframe thead th {\n",
              "        text-align: right;\n",
              "    }\n",
              "</style>\n",
              "<table border=\"1\" class=\"dataframe\">\n",
              "  <thead>\n",
              "    <tr style=\"text-align: right;\">\n",
              "      <th></th>\n",
              "      <th>X</th>\n",
              "      <th>Y</th>\n",
              "    </tr>\n",
              "  </thead>\n",
              "  <tbody>\n",
              "    <tr>\n",
              "      <th>0</th>\n",
              "      <td>8.651201</td>\n",
              "      <td>17.891600</td>\n",
              "    </tr>\n",
              "    <tr>\n",
              "      <th>1</th>\n",
              "      <td>10.984780</td>\n",
              "      <td>18.517851</td>\n",
              "    </tr>\n",
              "    <tr>\n",
              "      <th>2</th>\n",
              "      <td>13.378190</td>\n",
              "      <td>17.394541</td>\n",
              "    </tr>\n",
              "  </tbody>\n",
              "</table>\n",
              "</div>"
            ]
          },
          "metadata": {}
        }
      ],
      "execution_count": 7,
      "metadata": {
        "execution": {
          "iopub.status.busy": "2020-05-17T21:06:49.394Z",
          "iopub.execute_input": "2020-05-17T21:06:49.405Z",
          "iopub.status.idle": "2020-05-17T21:06:49.428Z",
          "shell.execute_reply": "2020-05-17T21:06:49.441Z"
        }
      }
    },
    {
      "cell_type": "markdown",
      "source": [
        "You can also sample several rows randomly. If the data is sorted in some ways, sampling may give you a rather unbiased view of the dataset.  "
      ],
      "metadata": {}
    },
    {
      "cell_type": "code",
      "source": [
        "# Your code here"
      ],
      "outputs": [
        {
          "output_type": "execute_result",
          "execution_count": 7,
          "data": {
            "text/html": [
              "<div>\n",
              "<style scoped>\n",
              "    .dataframe tbody tr th:only-of-type {\n",
              "        vertical-align: middle;\n",
              "    }\n",
              "\n",
              "    .dataframe tbody tr th {\n",
              "        vertical-align: top;\n",
              "    }\n",
              "\n",
              "    .dataframe thead th {\n",
              "        text-align: right;\n",
              "    }\n",
              "</style>\n",
              "<table border=\"1\" class=\"dataframe\">\n",
              "  <thead>\n",
              "    <tr style=\"text-align: right;\">\n",
              "      <th></th>\n",
              "      <th>X</th>\n",
              "      <th>Y</th>\n",
              "    </tr>\n",
              "  </thead>\n",
              "  <tbody>\n",
              "    <tr>\n",
              "      <th>1</th>\n",
              "      <td>10.984780</td>\n",
              "      <td>18.517851</td>\n",
              "    </tr>\n",
              "    <tr>\n",
              "      <th>8</th>\n",
              "      <td>13.521460</td>\n",
              "      <td>7.958250</td>\n",
              "    </tr>\n",
              "    <tr>\n",
              "      <th>11</th>\n",
              "      <td>16.005110</td>\n",
              "      <td>5.046838</td>\n",
              "    </tr>\n",
              "    <tr>\n",
              "      <th>5</th>\n",
              "      <td>8.864416</td>\n",
              "      <td>12.753540</td>\n",
              "    </tr>\n",
              "    <tr>\n",
              "      <th>3</th>\n",
              "      <td>14.879830</td>\n",
              "      <td>17.809919</td>\n",
              "    </tr>\n",
              "  </tbody>\n",
              "</table>\n",
              "</div>"
            ],
            "text/plain": [
              "            X          Y\n",
              "1   10.984780  18.517851\n",
              "8   13.521460   7.958250\n",
              "11  16.005110   5.046838\n",
              "5    8.864416  12.753540\n",
              "3   14.879830  17.809919"
            ]
          },
          "metadata": {}
        }
      ],
      "execution_count": 7,
      "metadata": {}
    },
    {
      "cell_type": "markdown",
      "source": [
        "You can also figure out the number of rows in the dataset by running "
      ],
      "metadata": {}
    },
    {
      "cell_type": "code",
      "source": [
        "len(pump_df)"
      ],
      "outputs": [
        {
          "output_type": "execute_result",
          "execution_count": 8,
          "data": {
            "text/plain": [
              "13"
            ]
          },
          "metadata": {}
        }
      ],
      "execution_count": 8,
      "metadata": {
        "execution": {
          "iopub.status.busy": "2020-05-17T21:07:19.255Z",
          "iopub.execute_input": "2020-05-17T21:07:19.267Z",
          "iopub.status.idle": "2020-05-17T21:07:19.295Z",
          "shell.execute_reply": "2020-05-17T21:07:19.308Z"
        }
      }
    },
    {
      "cell_type": "markdown",
      "source": [
        "Note that `df.size` does not give you the number of rows. It tells you the number of elements. "
      ],
      "metadata": {}
    },
    {
      "cell_type": "code",
      "source": [
        "pump_df.size"
      ],
      "outputs": [
        {
          "output_type": "execute_result",
          "execution_count": 9,
          "data": {
            "text/plain": [
              "26"
            ]
          },
          "metadata": {}
        }
      ],
      "execution_count": 9,
      "metadata": {}
    },
    {
      "cell_type": "markdown",
      "source": [
        "You can also look into the shape of the dataset as well as what are the columns in the dataset. "
      ],
      "metadata": {}
    },
    {
      "cell_type": "code",
      "source": [
        "pump_df.shape  # 13 rows and 2 columns"
      ],
      "outputs": [
        {
          "output_type": "execute_result",
          "execution_count": 10,
          "data": {
            "text/plain": [
              "(13, 2)"
            ]
          },
          "metadata": {}
        }
      ],
      "execution_count": 10,
      "metadata": {}
    },
    {
      "cell_type": "code",
      "source": [
        "pump_df.columns"
      ],
      "outputs": [
        {
          "output_type": "execute_result",
          "execution_count": 11,
          "data": {
            "text/plain": [
              "Index(['X', 'Y'], dtype='object')"
            ]
          },
          "metadata": {}
        }
      ],
      "execution_count": 11,
      "metadata": {}
    },
    {
      "cell_type": "markdown",
      "source": [
        "You can also check out basic descriptive statistics of the whole dataset by using `describe()` method.  "
      ],
      "metadata": {}
    },
    {
      "cell_type": "code",
      "source": [
        "pump_df.describe()"
      ],
      "outputs": [
        {
          "output_type": "execute_result",
          "execution_count": 12,
          "data": {
            "text/html": [
              "<div>\n",
              "<style scoped>\n",
              "    .dataframe tbody tr th:only-of-type {\n",
              "        vertical-align: middle;\n",
              "    }\n",
              "\n",
              "    .dataframe tbody tr th {\n",
              "        vertical-align: top;\n",
              "    }\n",
              "\n",
              "    .dataframe thead th {\n",
              "        text-align: right;\n",
              "    }\n",
              "</style>\n",
              "<table border=\"1\" class=\"dataframe\">\n",
              "  <thead>\n",
              "    <tr style=\"text-align: right;\">\n",
              "      <th></th>\n",
              "      <th>X</th>\n",
              "      <th>Y</th>\n",
              "    </tr>\n",
              "  </thead>\n",
              "  <tbody>\n",
              "    <tr>\n",
              "      <th>count</th>\n",
              "      <td>13.000000</td>\n",
              "      <td>13.000000</td>\n",
              "    </tr>\n",
              "    <tr>\n",
              "      <th>mean</th>\n",
              "      <td>12.504677</td>\n",
              "      <td>11.963446</td>\n",
              "    </tr>\n",
              "    <tr>\n",
              "      <th>std</th>\n",
              "      <td>3.376869</td>\n",
              "      <td>4.957821</td>\n",
              "    </tr>\n",
              "    <tr>\n",
              "      <th>min</th>\n",
              "      <td>8.651201</td>\n",
              "      <td>5.046838</td>\n",
              "    </tr>\n",
              "    <tr>\n",
              "      <th>25%</th>\n",
              "      <td>8.999440</td>\n",
              "      <td>7.958250</td>\n",
              "    </tr>\n",
              "    <tr>\n",
              "      <th>50%</th>\n",
              "      <td>12.571360</td>\n",
              "      <td>11.727170</td>\n",
              "    </tr>\n",
              "    <tr>\n",
              "      <th>75%</th>\n",
              "      <td>14.879830</td>\n",
              "      <td>17.394541</td>\n",
              "    </tr>\n",
              "    <tr>\n",
              "      <th>max</th>\n",
              "      <td>18.914391</td>\n",
              "      <td>18.517851</td>\n",
              "    </tr>\n",
              "  </tbody>\n",
              "</table>\n",
              "</div>"
            ],
            "text/plain": [
              "               X          Y\n",
              "count  13.000000  13.000000\n",
              "mean   12.504677  11.963446\n",
              "std     3.376869   4.957821\n",
              "min     8.651201   5.046838\n",
              "25%     8.999440   7.958250\n",
              "50%    12.571360  11.727170\n",
              "75%    14.879830  17.394541\n",
              "max    18.914391  18.517851"
            ]
          },
          "metadata": {}
        }
      ],
      "execution_count": 12,
      "metadata": {}
    },
    {
      "cell_type": "markdown",
      "source": [
        "You can slice the data like a list"
      ],
      "metadata": {}
    },
    {
      "cell_type": "code",
      "source": [
        "pump_df[:2]"
      ],
      "outputs": [
        {
          "output_type": "execute_result",
          "execution_count": 13,
          "data": {
            "text/html": [
              "<div>\n",
              "<style scoped>\n",
              "    .dataframe tbody tr th:only-of-type {\n",
              "        vertical-align: middle;\n",
              "    }\n",
              "\n",
              "    .dataframe tbody tr th {\n",
              "        vertical-align: top;\n",
              "    }\n",
              "\n",
              "    .dataframe thead th {\n",
              "        text-align: right;\n",
              "    }\n",
              "</style>\n",
              "<table border=\"1\" class=\"dataframe\">\n",
              "  <thead>\n",
              "    <tr style=\"text-align: right;\">\n",
              "      <th></th>\n",
              "      <th>X</th>\n",
              "      <th>Y</th>\n",
              "    </tr>\n",
              "  </thead>\n",
              "  <tbody>\n",
              "    <tr>\n",
              "      <th>0</th>\n",
              "      <td>8.651201</td>\n",
              "      <td>17.891600</td>\n",
              "    </tr>\n",
              "    <tr>\n",
              "      <th>1</th>\n",
              "      <td>10.984780</td>\n",
              "      <td>18.517851</td>\n",
              "    </tr>\n",
              "  </tbody>\n",
              "</table>\n",
              "</div>"
            ],
            "text/plain": [
              "           X          Y\n",
              "0   8.651201  17.891600\n",
              "1  10.984780  18.517851"
            ]
          },
          "metadata": {}
        }
      ],
      "execution_count": 13,
      "metadata": {}
    },
    {
      "cell_type": "code",
      "source": [
        "pump_df[-2:]"
      ],
      "outputs": [
        {
          "output_type": "execute_result",
          "execution_count": 14,
          "data": {
            "text/html": [
              "<div>\n",
              "<style scoped>\n",
              "    .dataframe tbody tr th:only-of-type {\n",
              "        vertical-align: middle;\n",
              "    }\n",
              "\n",
              "    .dataframe tbody tr th {\n",
              "        vertical-align: top;\n",
              "    }\n",
              "\n",
              "    .dataframe thead th {\n",
              "        text-align: right;\n",
              "    }\n",
              "</style>\n",
              "<table border=\"1\" class=\"dataframe\">\n",
              "  <thead>\n",
              "    <tr style=\"text-align: right;\">\n",
              "      <th></th>\n",
              "      <th>X</th>\n",
              "      <th>Y</th>\n",
              "    </tr>\n",
              "  </thead>\n",
              "  <tbody>\n",
              "    <tr>\n",
              "      <th>11</th>\n",
              "      <td>16.00511</td>\n",
              "      <td>5.046838</td>\n",
              "    </tr>\n",
              "    <tr>\n",
              "      <th>12</th>\n",
              "      <td>8.99944</td>\n",
              "      <td>5.101023</td>\n",
              "    </tr>\n",
              "  </tbody>\n",
              "</table>\n",
              "</div>"
            ],
            "text/plain": [
              "           X         Y\n",
              "11  16.00511  5.046838\n",
              "12   8.99944  5.101023"
            ]
          },
          "metadata": {}
        }
      ],
      "execution_count": 14,
      "metadata": {}
    },
    {
      "cell_type": "code",
      "source": [
        "pump_df[1:5]"
      ],
      "outputs": [
        {
          "output_type": "execute_result",
          "execution_count": 15,
          "data": {
            "text/html": [
              "<div>\n",
              "<style scoped>\n",
              "    .dataframe tbody tr th:only-of-type {\n",
              "        vertical-align: middle;\n",
              "    }\n",
              "\n",
              "    .dataframe tbody tr th {\n",
              "        vertical-align: top;\n",
              "    }\n",
              "\n",
              "    .dataframe thead th {\n",
              "        text-align: right;\n",
              "    }\n",
              "</style>\n",
              "<table border=\"1\" class=\"dataframe\">\n",
              "  <thead>\n",
              "    <tr style=\"text-align: right;\">\n",
              "      <th></th>\n",
              "      <th>X</th>\n",
              "      <th>Y</th>\n",
              "    </tr>\n",
              "  </thead>\n",
              "  <tbody>\n",
              "    <tr>\n",
              "      <th>1</th>\n",
              "      <td>10.984780</td>\n",
              "      <td>18.517851</td>\n",
              "    </tr>\n",
              "    <tr>\n",
              "      <th>2</th>\n",
              "      <td>13.378190</td>\n",
              "      <td>17.394541</td>\n",
              "    </tr>\n",
              "    <tr>\n",
              "      <th>3</th>\n",
              "      <td>14.879830</td>\n",
              "      <td>17.809919</td>\n",
              "    </tr>\n",
              "    <tr>\n",
              "      <th>4</th>\n",
              "      <td>8.694768</td>\n",
              "      <td>14.905470</td>\n",
              "    </tr>\n",
              "  </tbody>\n",
              "</table>\n",
              "</div>"
            ],
            "text/plain": [
              "           X          Y\n",
              "1  10.984780  18.517851\n",
              "2  13.378190  17.394541\n",
              "3  14.879830  17.809919\n",
              "4   8.694768  14.905470"
            ]
          },
          "metadata": {}
        }
      ],
      "execution_count": 15,
      "metadata": {}
    },
    {
      "cell_type": "markdown",
      "source": [
        "or filter rows using some conditions. "
      ],
      "metadata": {}
    },
    {
      "cell_type": "code",
      "source": [
        "pump_df[pump_df.X > 13]"
      ],
      "outputs": [
        {
          "output_type": "execute_result",
          "execution_count": 16,
          "data": {
            "text/html": [
              "<div>\n",
              "<style scoped>\n",
              "    .dataframe tbody tr th:only-of-type {\n",
              "        vertical-align: middle;\n",
              "    }\n",
              "\n",
              "    .dataframe tbody tr th {\n",
              "        vertical-align: top;\n",
              "    }\n",
              "\n",
              "    .dataframe thead th {\n",
              "        text-align: right;\n",
              "    }\n",
              "</style>\n",
              "<table border=\"1\" class=\"dataframe\">\n",
              "  <thead>\n",
              "    <tr style=\"text-align: right;\">\n",
              "      <th></th>\n",
              "      <th>X</th>\n",
              "      <th>Y</th>\n",
              "    </tr>\n",
              "  </thead>\n",
              "  <tbody>\n",
              "    <tr>\n",
              "      <th>2</th>\n",
              "      <td>13.378190</td>\n",
              "      <td>17.394541</td>\n",
              "    </tr>\n",
              "    <tr>\n",
              "      <th>3</th>\n",
              "      <td>14.879830</td>\n",
              "      <td>17.809919</td>\n",
              "    </tr>\n",
              "    <tr>\n",
              "      <th>8</th>\n",
              "      <td>13.521460</td>\n",
              "      <td>7.958250</td>\n",
              "    </tr>\n",
              "    <tr>\n",
              "      <th>9</th>\n",
              "      <td>16.434891</td>\n",
              "      <td>9.252130</td>\n",
              "    </tr>\n",
              "    <tr>\n",
              "      <th>10</th>\n",
              "      <td>18.914391</td>\n",
              "      <td>9.737819</td>\n",
              "    </tr>\n",
              "    <tr>\n",
              "      <th>11</th>\n",
              "      <td>16.005110</td>\n",
              "      <td>5.046838</td>\n",
              "    </tr>\n",
              "  </tbody>\n",
              "</table>\n",
              "</div>"
            ],
            "text/plain": [
              "            X          Y\n",
              "2   13.378190  17.394541\n",
              "3   14.879830  17.809919\n",
              "8   13.521460   7.958250\n",
              "9   16.434891   9.252130\n",
              "10  18.914391   9.737819\n",
              "11  16.005110   5.046838"
            ]
          },
          "metadata": {}
        }
      ],
      "execution_count": 16,
      "metadata": {}
    },
    {
      "cell_type": "markdown",
      "source": [
        "Now let's load another CSV file that documents the cholera deaths. The URL is https://raw.githubusercontent.com/yy/dviz-course/master/data/deaths.csv\n",
        "\n",
        "**Q2: load the death dataset and inspect it**\n",
        "\n",
        "1. **load this dataset as `death_df`.**\n",
        "2. **show the first 2 rows.**\n",
        "3. **show the total number of rows.**"
      ],
      "metadata": {}
    },
    {
      "cell_type": "code",
      "source": [
        "# TODO: write your code here. You probably want to create multiple cells. \n"
      ],
      "outputs": [
        {
          "output_type": "execute_result",
          "execution_count": 17,
          "data": {
            "text/html": [
              "<div>\n",
              "<style scoped>\n",
              "    .dataframe tbody tr th:only-of-type {\n",
              "        vertical-align: middle;\n",
              "    }\n",
              "\n",
              "    .dataframe tbody tr th {\n",
              "        vertical-align: top;\n",
              "    }\n",
              "\n",
              "    .dataframe thead th {\n",
              "        text-align: right;\n",
              "    }\n",
              "</style>\n",
              "<table border=\"1\" class=\"dataframe\">\n",
              "  <thead>\n",
              "    <tr style=\"text-align: right;\">\n",
              "      <th></th>\n",
              "      <th>X</th>\n",
              "      <th>Y</th>\n",
              "    </tr>\n",
              "  </thead>\n",
              "  <tbody>\n",
              "    <tr>\n",
              "      <th>0</th>\n",
              "      <td>13.588010</td>\n",
              "      <td>11.09560</td>\n",
              "    </tr>\n",
              "    <tr>\n",
              "      <th>1</th>\n",
              "      <td>9.878124</td>\n",
              "      <td>12.55918</td>\n",
              "    </tr>\n",
              "  </tbody>\n",
              "</table>\n",
              "</div>"
            ],
            "text/plain": [
              "           X         Y\n",
              "0  13.588010  11.09560\n",
              "1   9.878124  12.55918"
            ]
          },
          "metadata": {}
        }
      ],
      "execution_count": 17,
      "metadata": {}
    },
    {
      "cell_type": "code",
      "source": [
        "len(death_df)"
      ],
      "outputs": [
        {
          "output_type": "execute_result",
          "execution_count": 18,
          "data": {
            "text/plain": [
              "578"
            ]
          },
          "metadata": {}
        }
      ],
      "execution_count": 18,
      "metadata": {}
    },
    {
      "cell_type": "markdown",
      "source": [
        "## Some visualizations?\n",
        "\n",
        "Let's visualize them! Pandas actually provides [a nice visualization interface](https://pandas.pydata.org/pandas-docs/stable/generated/pandas.DataFrame.plot.html) that uses [matplotlib](https://matplotlib.org) under the hood. You can do many basic plots without learning `matplotlib`. So let's try. "
      ],
      "metadata": {}
    },
    {
      "cell_type": "code",
      "source": [
        "death_df.plot()"
      ],
      "outputs": [
        {
          "output_type": "execute_result",
          "execution_count": 19,
          "data": {
            "text/plain": [
              "<matplotlib.axes._subplots.AxesSubplot at 0x7fb6788525d0>"
            ]
          },
          "metadata": {}
        },
        {
          "output_type": "display_data",
          "data": {
            "image/png": "[encoded data removed]",
            "text/plain": [
              "<Figure size 432x288 with 1 Axes>"
            ]
          },
          "metadata": {
            "needs_background": "light"
          }
        }
      ],
      "execution_count": 19,
      "metadata": {}
    },
    {
      "cell_type": "markdown",
      "source": [
        "Oh by the way, depending on your environment, you may not see any plot. If you don't see anything run the following command."
      ],
      "metadata": {}
    },
    {
      "cell_type": "code",
      "source": [
        "%matplotlib inline"
      ],
      "outputs": [],
      "execution_count": 20,
      "metadata": {}
    },
    {
      "cell_type": "markdown",
      "source": [
        "The commands that start with `%` is called [the magic commands](http://ipython.readthedocs.io/en/stable/interactive/magics.html#magic-matplotlib), which are available in IPython and Jupyter. The purpose of this command is telling the IPython / Jupyter to show the plot right here instead of trying to use other external viewers. "
      ],
      "metadata": {}
    },
    {
      "cell_type": "markdown",
      "source": [
        "Anyway, this doesn't seem like the plot we want. Instead of putting each row as a point in a 2D plane by using the X and Y as the coordinate, it just created a line chart. Let's fix it. Please take a look at [the plot method documentation](https://pandas.pydata.org/pandas-docs/stable/generated/pandas.DataFrame.plot.html). How should we change the command? Which `kind` of plot do we want to draw? \n",
        "\n",
        "Yes, we want to draw a *scatter plot* using x and y as the Cartesian coordinates. "
      ],
      "metadata": {}
    },
    {
      "cell_type": "code",
      "source": [
        "death_df.plot(x='X', y='Y', kind='scatter', label='Deaths')"
      ],
      "outputs": [
        {
          "output_type": "execute_result",
          "execution_count": 21,
          "data": {
            "text/plain": [
              "<matplotlib.axes._subplots.AxesSubplot at 0x7fb688f1f210>"
            ]
          },
          "metadata": {}
        },
        {
          "output_type": "display_data",
          "data": {
            "image/png": "[encoded data removed]",
            "text/plain": [
              "<Figure size 432x288 with 1 Axes>"
            ]
          },
          "metadata": {
            "needs_background": "light"
          }
        }
      ],
      "execution_count": 21,
      "metadata": {}
    },
    {
      "cell_type": "markdown",
      "source": [
        "I think I want to reduce the size of the dots and change the color to black. But it is difficult to find how to do that! It is sometimes quite annoying to figure out how to change how the visualization looks, especially when we use `matplotlib`. Unlike some other advanced tools, `matplotlib` does not provide a very coherent way to adjust your visualizations. That's one of the reasons why there are lots of visualization libraries that *wrap* `matplotlib`. Anyway, this is how you do it. \n"
      ],
      "metadata": {}
    },
    {
      "cell_type": "code",
      "source": [
        "death_df.plot(x='X', y='Y', kind='scatter', label='Deaths', s=2, c='black')"
      ],
      "outputs": [
        {
          "output_type": "execute_result",
          "execution_count": 22,
          "data": {
            "text/plain": [
              "<matplotlib.axes._subplots.AxesSubplot at 0x7fb69928b4d0>"
            ]
          },
          "metadata": {}
        },
        {
          "output_type": "display_data",
          "data": {
            "image/png": "[encoded data removed]",
            "text/plain": [
              "<Figure size 432x288 with 1 Axes>"
            ]
          },
          "metadata": {
            "needs_background": "light"
          }
        }
      ],
      "execution_count": 22,
      "metadata": {}
    },
    {
      "cell_type": "markdown",
      "source": [
        "Can we visualize both deaths and pumps? "
      ],
      "metadata": {}
    },
    {
      "cell_type": "code",
      "source": [
        "death_df.plot(x='X', y='Y', s=2, c='black', kind='scatter', label='Deaths')\n",
        "pump_df.plot(x='X', y='Y', kind='scatter', c='red', s=8, label='Pumps')"
      ],
      "outputs": [
        {
          "output_type": "execute_result",
          "execution_count": 23,
          "data": {
            "text/plain": [
              "<matplotlib.axes._subplots.AxesSubplot at 0x7fb678ad8d50>"
            ]
          },
          "metadata": {}
        },
        {
          "output_type": "display_data",
          "data": {
            "image/png": "[encoded data removed]",
            "text/plain": [
              "<Figure size 432x288 with 1 Axes>"
            ]
          },
          "metadata": {
            "needs_background": "light"
          }
        },
        {
          "output_type": "display_data",
          "data": {
            "image/png": "[encoded data removed]",
            "text/plain": [
              "<Figure size 432x288 with 1 Axes>"
            ]
          },
          "metadata": {
            "needs_background": "light"
          }
        }
      ],
      "execution_count": 23,
      "metadata": {}
    },
    {
      "cell_type": "markdown",
      "source": [
        "## Figure and Axes\n",
        "\n",
        "Why do we have two separate plots? The reason is that, by default, the `plot` method creates a new plot. In order to avoid it, we need to either create an [Axes](https://matplotlib.org/api/axes_api.html) and tell `plot` to use that axes. What is an `axes`? See this illustration. \n",
        "\n",
        "<img src=\"https://matplotlib.org/1.5.1/_images/fig_map.png\" alt=\"figure, axes, and axis\" style=\"width: 500px;\"/>\n",
        "\n",
        "\n",
        "A figure can contain multiple axes ([link](https://matplotlib.org/gallery/subplots_axes_and_figures/subplot_demo.html#sphx-glr-gallery-subplots-axes-and-figures-subplot-demo-py)):\n",
        "\n",
        "![multipleaxes](https://matplotlib.org/_images/sphx_glr_subplot_demo_001.png)\n",
        "\n",
        "and an axes can contain multiple plots ([link](https://matplotlib.org/gallery/api/two_scales.html#sphx-glr-gallery-api-two-scales-py)). \n",
        "\n",
        "![multipleplots](https://matplotlib.org/_images/sphx_glr_two_scales_001.png)\n",
        "\n",
        "Conveniently, when you call `plot` method, it creates an axes and returns it to you"
      ],
      "metadata": {}
    },
    {
      "cell_type": "code",
      "source": [
        "ax = death_df.plot(x='X', y='Y', s=2, c='black', kind='scatter', label='Deaths')"
      ],
      "outputs": [
        {
          "output_type": "display_data",
          "data": {
            "image/png": "[encoded data removed]",
            "text/plain": [
              "<Figure size 432x288 with 1 Axes>"
            ]
          },
          "metadata": {
            "needs_background": "light"
          }
        }
      ],
      "execution_count": 24,
      "metadata": {}
    },
    {
      "cell_type": "code",
      "source": [
        "ax"
      ],
      "outputs": [
        {
          "output_type": "execute_result",
          "execution_count": 25,
          "data": {
            "text/plain": [
              "<matplotlib.axes._subplots.AxesSubplot at 0x7fb6a8eebc50>"
            ]
          },
          "metadata": {}
        }
      ],
      "execution_count": 25,
      "metadata": {}
    },
    {
      "cell_type": "markdown",
      "source": [
        "Then you can pass this axes object to another plot to put both plots in the same axes. "
      ],
      "metadata": {}
    },
    {
      "cell_type": "code",
      "source": [
        "ax = death_df.plot(x='X', y='Y', s=2, c='black', alpha=0.5, kind='scatter', label='Deaths')\n",
        "pump_df.plot(x='X', y='Y', kind='scatter', c='red', s=8, label='Pumps', ax=ax)"
      ],
      "outputs": [
        {
          "output_type": "execute_result",
          "execution_count": 29,
          "data": {
            "text/plain": [
              "<matplotlib.axes._subplots.AxesSubplot at 0x7fb6a8672fd0>"
            ]
          },
          "metadata": {}
        },
        {
          "output_type": "display_data",
          "data": {
            "image/png": "[encoded data removed]",
            "text/plain": [
              "<Figure size 432x288 with 1 Axes>"
            ]
          },
          "metadata": {
            "needs_background": "light"
          }
        }
      ],
      "execution_count": 29,
      "metadata": {}
    },
    {
      "cell_type": "markdown",
      "source": [
        "Probably the most explicit (and good) way to create a plot is by calling the `subplots()` method (see https://matplotlib.org/3.2.1/api/_as_gen/matplotlib.pyplot.subplots.html). In doing so, you directly obtain the `figure` object as well as the `ax` object. Then you can manipulate them directly. `plt.plot()` or `df.plot()` is a quick way to create plots, but if you want to produce a nice explanatory plots (which may involve multiple panels), use this method! \n",
        "\n",
        "**Now, can use this method to produce the same plot?**"
      ],
      "metadata": {}
    },
    {
      "cell_type": "code",
      "source": [
        "import matplotlib.pyplot as plt\n",
        "fig, ax = plt.subplots()\n",
        "\n",
        "# your code here\n"
      ],
      "outputs": [
        {
          "output_type": "execute_result",
          "execution_count": 30,
          "data": {
            "text/plain": [
              "<matplotlib.axes._subplots.AxesSubplot at 0x7fb699436a50>"
            ]
          },
          "metadata": {}
        },
        {
          "output_type": "display_data",
          "data": {
            "image/png": "[encoded data removed]",
            "text/plain": [
              "<Figure size 432x288 with 1 Axes>"
            ]
          },
          "metadata": {
            "needs_background": "light"
          }
        }
      ],
      "execution_count": 30,
      "metadata": {}
    },
    {
      "cell_type": "markdown",
      "source": [
        "## Voronoi diagram\n",
        "\n",
        "Let's try the Voronoi diagram. You can use the `scipy.spatial.Voronoi` and `scipy.spatial.voronoi_plot_2d` from `scipy`, the *scientific python* library. "
      ],
      "metadata": {}
    },
    {
      "cell_type": "code",
      "source": [
        "from scipy.spatial import Voronoi, voronoi_plot_2d"
      ],
      "outputs": [],
      "execution_count": 31,
      "metadata": {}
    },
    {
      "cell_type": "markdown",
      "source": [
        "Take a look at the documentation of [Voronoi](https://docs.scipy.org/doc/scipy-0.18.1/reference/generated/scipy.spatial.Voronoi.html#scipy.spatial.Voronoi) and [voronoi_plot_2d](https://docs.scipy.org/doc/scipy-0.18.1/reference/generated/scipy.spatial.voronoi_plot_2d.html) and \n",
        "\n",
        "**Q3: produce a Voronoi diagram that shows the deaths, pumps, and voronoi cells**"
      ],
      "metadata": {}
    },
    {
      "cell_type": "code",
      "source": [
        "# you'll need this\n",
        "points = pump_df.values\n",
        "points"
      ],
      "outputs": [
        {
          "output_type": "execute_result",
          "execution_count": 32,
          "data": {
            "text/plain": [
              "array([[ 8.6512012, 17.8915997],\n",
              "       [10.9847803, 18.5178509],\n",
              "       [13.37819  , 17.3945408],\n",
              "       [14.8798304, 17.8099194],\n",
              "       [ 8.694768 , 14.9054699],\n",
              "       [ 8.8644161, 12.75354  ],\n",
              "       [12.5713596, 11.72717  ],\n",
              "       [10.6609697,  7.428647 ],\n",
              "       [13.5214596,  7.95825  ],\n",
              "       [16.4348907,  9.2521296],\n",
              "       [18.9143906,  9.7378187],\n",
              "       [16.0051098,  5.0468378],\n",
              "       [ 8.9994402,  5.1010232]])"
            ]
          },
          "metadata": {}
        }
      ],
      "execution_count": 32,
      "metadata": {}
    },
    {
      "cell_type": "code",
      "source": [
        "# TODO: your code here\n"
      ],
      "outputs": [
        {
          "output_type": "display_data",
          "data": {
            "image/png": "[encoded data removed]",
            "text/plain": [
              "<Figure size 432x288 with 1 Axes>"
            ]
          },
          "metadata": {
            "needs_background": "light"
          }
        }
      ],
      "execution_count": 33,
      "metadata": {}
    },
    {
      "cell_type": "markdown",
      "source": [
        "## Saving the figure\n",
        "\n",
        "You can also save your figure into PDF, PNG, etc. If you run the following, the plot will not only be displayed here, but also be saved as `foo.png`. "
      ],
      "metadata": {}
    },
    {
      "cell_type": "code",
      "source": [
        "import matplotlib.pyplot as plt\n",
        "plt.plot([1,2,3], [4,2,3])\n",
        "plt.savefig('foo.png')"
      ],
      "outputs": [
        {
          "output_type": "display_data",
          "data": {
            "image/png": "[encoded data removed]",
            "text/plain": [
              "<Figure size 432x288 with 1 Axes>"
            ]
          },
          "metadata": {
            "needs_background": "light"
          }
        }
      ],
      "execution_count": 39,
      "metadata": {}
    },
    {
      "cell_type": "markdown",
      "source": [
        "**Q4: Save your Voronoi diagram. Make sure that your plot contains the scatterplot of deaths & pumps as well as the Voronoi cells**"
      ],
      "metadata": {}
    },
    {
      "cell_type": "code",
      "source": [
        "# TODO: your code here\n"
      ],
      "outputs": [
        {
          "output_type": "display_data",
          "data": {
            "image/png": "[encoded data removed]",
            "text/plain": [
              "<Figure size 432x288 with 1 Axes>"
            ]
          },
          "metadata": {
            "needs_background": "light"
          }
        }
      ],
      "execution_count": 40,
      "metadata": {}
    },
    {
      "cell_type": "markdown",
      "source": [
        "Ok, that was a brief introduction to `pandas` and some simple visualizations. Now let's talk about web a little bit. "
      ],
      "metadata": {}
    },
    {
      "cell_type": "markdown",
      "source": [
        "## HTML & CSS Basics\n",
        "\n",
        "### Seting up a local Python web server\n",
        "\n",
        "Many browsers don't allow loading files locally due to security concerns. If you work with Javascript and datasets, this can cause some troubles. We can get around by simply running a local web server with Python (did you know that there is a simple HTTP server module in Python? 😎):\n",
        "\n",
        "- Open the Command Prompt (windows) or your terminal.\n",
        "- Move to the working directory by typing `cd <FOLDER_LOCATION>`. If you run your webserver here, then this becomes the root of the website. \n",
        "- Type \n",
        "\n",
        "    `python -m http.server`.\n",
        "   \n",
        "\n",
        "If successful, you'll see\n",
        "\n",
        "\tServing HTTP on 0.0.0.0 port 8000 …\n",
        "\t\n",
        "This means that now your computer is running a webserver and its IP address is 0.0.0.0 and the port is 8000. Now you can open a browser and type \"0.0.0.0:8000\" on the address bar to connect to this webserver. Equivalently, you can type \"localhost:8000\". After typing, click on the different links. You can also directly access one of these links by typing in `localhost:8000/NAME_OF_YOUR_FILE.html` in the address bar.\n",
        "\n",
        "### HTML review\n",
        "\n",
        "Webpages are written in a standard markup language called HTML (HyperText Markup Language). The basic syntax of HTML consists of elements enclosed within `<` and `>` symbols. Browsers such as Firefox and Chrome parse these tags and *render* the content of a webpage in the designated format. \n",
        "\n",
        "Here is a list of important tags and their descriptions.\n",
        "\n",
        "- `html` - Surrounds the entire document.\n",
        "\n",
        "- `head` - Contains info about the document itself. E.g. the title, any external stylesheets or scripts, etc.\n",
        "\n",
        "- `title` - Assigns title to page. This title is used while bookmarking.\n",
        "\n",
        "- `body` - The main part of the document.\n",
        "\n",
        "- `h1`, `h2`, `h3`, ... - Headings (Smaller the number, larger the size).\n",
        "\n",
        "- `p` - Paragraph.\n",
        "\n",
        "- `br` - Line break.\n",
        "\n",
        "- `em` - emphasize text.\n",
        "\n",
        "- `strong` or `b` - Bold font.\n",
        "\n",
        "- `a` - Defines a hyperlink and allows you to link out to the other webpages.\n",
        "\n",
        "- `img` - Place an image.\n",
        "\n",
        "- `ul`, `ol`, `li` - Unordered lists with bullets, ordered lists with numbers and each item in list respectively.\n",
        "\n",
        "- `table`, `th`, `td`, `tr` - Make a table, specifying contents of each cell.\n",
        "\n",
        "- `<!-->` - Comments – will not be displayed.\n",
        "\n",
        "- `span` - This will not visibly change anything on the webpage. But it is important while referencing in CSS or JavaScript. It spans a section of text, say, within a paragraph.\n",
        "\n",
        "- `div` - This will not visibly change anything on the webpage. But it is important while referencing in CSS or JavaScript. It stands for division and allocates a section of a page.\n",
        "\n",
        "### CSS review\n",
        "\n",
        "While HTML directly deals with the content and structure, CSS (Cascading Style Sheets) is the primary language that is used for the look and formatting of a web document.\n",
        "\n",
        "A CSS stylesheet consists of one or more selectors, properties and values. For example:\n",
        "\n",
        "\tbody {   \n",
        "  \t  background-color: white;   \n",
        "  \t  color: steelblue;   \n",
        "\t}\n",
        "\t\n",
        "Selectors are the HTML elements to which the specific styles (combination of properties and values) will be applied. In the above example, all text within the `body` tags will be in steelblue.\n",
        "\n",
        "There are three ways to include CSS code in HTML. This is called \"referencing\".\n",
        "\n",
        "Embed CSS in HTML - You can place the CSS code within `style` tags inside the `head` tags. This way you can keep everything within a single HTML file but does make the code lengthy.\n",
        "\n",
        "    <head>  \t\t\t\n",
        "        <style type=\"text/css\" \t\n",
        "        .description {\n",
        "        font: 16px times-new-roman;\n",
        "        }\n",
        "        .viz {\n",
        "        font: 10px sans-serif;\n",
        "        } \n",
        "        </style>\n",
        "\t\n",
        "Reference an external stylesheet from HTML - This is a much cleaner way but results in the creation of another file. To do this, you can copy the CSS code into a text file and save it as a .css file in the same folder as the HTML file. In the document head in the HTML code, you can then do the following:\n",
        "\n",
        "\t<head>\n",
        " \t <link rel=\"stylesheet\" href=\"stylesheet.css\">\n",
        "\t</head>\n",
        "\t\n",
        "Attach inline styles - You can also directly attach the styles in-line along with the main HTML code in the body. This makes it easy to customize specific elements but makes the code very messy, because the design and content get mixed up.\n",
        "\n",
        "\t<p style=\"color: green; font-size:36px; font-weight:bold;\">\n",
        "    Inline styles can be handy sometimes.\n",
        "    </p>\n"
      ],
      "metadata": {}
    },
    {
      "cell_type": "markdown",
      "source": [
        "**Q5: Create a simple HTML page that displays the Voronoi diagram that you saved. Feel free to add more plots, explanations, and any styles. Make sure to check you can run the Python webserver and open the HTML file that you created.**\n",
        "\n",
        "Btw, you can also export Jupyter notebook into various formats. Click `File -> Export Notebook As` and play with it. "
      ],
      "metadata": {}
    },
    {
      "cell_type": "markdown",
      "source": [
        "## Now submit your work\n",
        "\n",
        "Export your notebook to HTML (`lab02_notebook_lastname_firstname.html`). Then also rename your `HTML` (CSS) files from HTML/CSS exercise in the format of `lab02_lastname_firstname`. Upload these files to Canvas. "
      ],
      "metadata": {}
    },
    {
      "cell_type": "code",
      "source": [],
      "outputs": [],
      "execution_count": null,
      "metadata": {}
    }
  ],
  "metadata": {
    "anaconda-cloud": {},
    "kernel_info": {
      "name": "dviz"
    },
    "kernelspec": {
      "display_name": "dviz",
      "language": "python",
      "name": "dviz"
    },
    "language_info": {
      "name": "python",
      "version": "3.7.7",
      "mimetype": "text/x-python",
      "codemirror_mode": {
        "name": "ipython",
        "version": 3
      },
      "pygments_lexer": "ipython3",
      "nbconvert_exporter": "python",
      "file_extension": ".py"
    },
    "nteract": {
      "version": "0.23.1"
    }
  },
  "nbformat": 4,
  "nbformat_minor": 4
}